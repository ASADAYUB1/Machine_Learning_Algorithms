{
 "cells": [
  {
   "cell_type": "code",
   "execution_count": 1,
   "id": "5e003fef",
   "metadata": {
    "_cell_guid": "b1076dfc-b9ad-4769-8c92-a6c4dae69d19",
    "_uuid": "8f2839f25d086af736a60e9eeb907d3b93b6e0e5",
    "execution": {
     "iopub.execute_input": "2024-04-30T11:04:18.649858Z",
     "iopub.status.busy": "2024-04-30T11:04:18.649443Z",
     "iopub.status.idle": "2024-04-30T11:04:19.755194Z",
     "shell.execute_reply": "2024-04-30T11:04:19.753623Z"
    },
    "papermill": {
     "duration": 1.124691,
     "end_time": "2024-04-30T11:04:19.757972",
     "exception": false,
     "start_time": "2024-04-30T11:04:18.633281",
     "status": "completed"
    },
    "tags": []
   },
   "outputs": [
    {
     "name": "stdout",
     "output_type": "stream",
     "text": [
      "/kaggle/input/digit-recognizer/sample_submission.csv\n",
      "/kaggle/input/digit-recognizer/train.csv\n",
      "/kaggle/input/digit-recognizer/test.csv\n"
     ]
    }
   ],
   "source": [
    "# This Python 3 environment comes with many helpful analytics libraries installed\n",
    "# It is defined by the kaggle/python Docker image: https://github.com/kaggle/docker-python\n",
    "# For example, here's several helpful packages to load\n",
    "\n",
    "import numpy as np # linear algebra\n",
    "import pandas as pd # data processing, CSV file I/O (e.g. pd.read_csv)\n",
    "\n",
    "# Input data files are available in the read-only \"../input/\" directory\n",
    "# For example, running this (by clicking run or pressing Shift+Enter) will list all files under the input directory\n",
    "\n",
    "import os\n",
    "for dirname, _, filenames in os.walk('/kaggle/input'):\n",
    "    for filename in filenames:\n",
    "        print(os.path.join(dirname, filename))\n",
    "\n",
    "# You can write up to 20GB to the current directory (/kaggle/working/) that gets preserved as output when you create a version using \"Save & Run All\" \n",
    "# You can also write temporary files to /kaggle/temp/, but they won't be saved outside of the current session"
   ]
  },
  {
   "cell_type": "code",
   "execution_count": 2,
   "id": "272d7b52",
   "metadata": {
    "execution": {
     "iopub.execute_input": "2024-04-30T11:04:19.788475Z",
     "iopub.status.busy": "2024-04-30T11:04:19.787847Z",
     "iopub.status.idle": "2024-04-30T11:04:24.883671Z",
     "shell.execute_reply": "2024-04-30T11:04:24.882336Z"
    },
    "papermill": {
     "duration": 5.114232,
     "end_time": "2024-04-30T11:04:24.886576",
     "exception": false,
     "start_time": "2024-04-30T11:04:19.772344",
     "status": "completed"
    },
    "tags": []
   },
   "outputs": [],
   "source": [
    "df = pd.read_csv('/kaggle/input/digit-recognizer/train.csv')"
   ]
  },
  {
   "cell_type": "code",
   "execution_count": 3,
   "id": "d95d9726",
   "metadata": {
    "execution": {
     "iopub.execute_input": "2024-04-30T11:04:24.918681Z",
     "iopub.status.busy": "2024-04-30T11:04:24.918227Z",
     "iopub.status.idle": "2024-04-30T11:04:24.927244Z",
     "shell.execute_reply": "2024-04-30T11:04:24.926032Z"
    },
    "papermill": {
     "duration": 0.028792,
     "end_time": "2024-04-30T11:04:24.929889",
     "exception": false,
     "start_time": "2024-04-30T11:04:24.901097",
     "status": "completed"
    },
    "tags": []
   },
   "outputs": [
    {
     "data": {
      "text/plain": [
       "(42000, 785)"
      ]
     },
     "execution_count": 3,
     "metadata": {},
     "output_type": "execute_result"
    }
   ],
   "source": [
    "df.shape"
   ]
  },
  {
   "cell_type": "code",
   "execution_count": 4,
   "id": "1bc1f124",
   "metadata": {
    "execution": {
     "iopub.execute_input": "2024-04-30T11:04:24.962486Z",
     "iopub.status.busy": "2024-04-30T11:04:24.962095Z",
     "iopub.status.idle": "2024-04-30T11:04:24.967885Z",
     "shell.execute_reply": "2024-04-30T11:04:24.966550Z"
    },
    "papermill": {
     "duration": 0.024789,
     "end_time": "2024-04-30T11:04:24.970454",
     "exception": false,
     "start_time": "2024-04-30T11:04:24.945665",
     "status": "completed"
    },
    "tags": []
   },
   "outputs": [],
   "source": [
    "X = df.iloc[:,1:]"
   ]
  },
  {
   "cell_type": "code",
   "execution_count": 5,
   "id": "65d17a6a",
   "metadata": {
    "execution": {
     "iopub.execute_input": "2024-04-30T11:04:25.001708Z",
     "iopub.status.busy": "2024-04-30T11:04:25.001318Z",
     "iopub.status.idle": "2024-04-30T11:04:25.008101Z",
     "shell.execute_reply": "2024-04-30T11:04:25.006573Z"
    },
    "papermill": {
     "duration": 0.026148,
     "end_time": "2024-04-30T11:04:25.010918",
     "exception": false,
     "start_time": "2024-04-30T11:04:24.984770",
     "status": "completed"
    },
    "tags": []
   },
   "outputs": [],
   "source": [
    "y = df.iloc[:,0]"
   ]
  },
  {
   "cell_type": "code",
   "execution_count": 6,
   "id": "996cf95a",
   "metadata": {
    "execution": {
     "iopub.execute_input": "2024-04-30T11:04:25.041732Z",
     "iopub.status.busy": "2024-04-30T11:04:25.041299Z",
     "iopub.status.idle": "2024-04-30T11:04:27.001533Z",
     "shell.execute_reply": "2024-04-30T11:04:27.000123Z"
    },
    "papermill": {
     "duration": 1.979223,
     "end_time": "2024-04-30T11:04:27.004566",
     "exception": false,
     "start_time": "2024-04-30T11:04:25.025343",
     "status": "completed"
    },
    "tags": []
   },
   "outputs": [],
   "source": [
    "from sklearn.model_selection import train_test_split\n",
    "X_train, X_test, y_train, y_test = train_test_split(X, y , test_size=0.2, random_state=42)\n"
   ]
  },
  {
   "cell_type": "code",
   "execution_count": 7,
   "id": "1f3f45cb",
   "metadata": {
    "execution": {
     "iopub.execute_input": "2024-04-30T11:04:27.037443Z",
     "iopub.status.busy": "2024-04-30T11:04:27.036975Z",
     "iopub.status.idle": "2024-04-30T11:04:27.389581Z",
     "shell.execute_reply": "2024-04-30T11:04:27.388300Z"
    },
    "papermill": {
     "duration": 0.371546,
     "end_time": "2024-04-30T11:04:27.392491",
     "exception": false,
     "start_time": "2024-04-30T11:04:27.020945",
     "status": "completed"
    },
    "tags": []
   },
   "outputs": [
    {
     "data": {
      "text/plain": [
       "<matplotlib.image.AxesImage at 0x7a9316d5fee0>"
      ]
     },
     "execution_count": 7,
     "metadata": {},
     "output_type": "execute_result"
    },
    {
     "data": {
      "image/png": "[encoded data removed]",
      "text/plain": [
       "<Figure size 640x480 with 1 Axes>"
      ]
     },
     "metadata": {},
     "output_type": "display_data"
    }
   ],
   "source": [
    "import matplotlib.pyplot as plt \n",
    "plt.imshow(df.iloc[10051, 1:].values.reshape(28,28))"
   ]
  },
  {
   "cell_type": "code",
   "execution_count": 8,
   "id": "18621fd5",
   "metadata": {
    "execution": {
     "iopub.execute_input": "2024-04-30T11:04:27.425229Z",
     "iopub.status.busy": "2024-04-30T11:04:27.424760Z",
     "iopub.status.idle": "2024-04-30T11:04:27.733216Z",
     "shell.execute_reply": "2024-04-30T11:04:27.731835Z"
    },
    "papermill": {
     "duration": 0.328987,
     "end_time": "2024-04-30T11:04:27.736406",
     "exception": false,
     "start_time": "2024-04-30T11:04:27.407419",
     "status": "completed"
    },
    "tags": []
   },
   "outputs": [],
   "source": [
    "from sklearn.neighbors import KNeighborsClassifier"
   ]
  },
  {
   "cell_type": "code",
   "execution_count": 9,
   "id": "032d8b80",
   "metadata": {
    "execution": {
     "iopub.execute_input": "2024-04-30T11:04:27.769651Z",
     "iopub.status.busy": "2024-04-30T11:04:27.769247Z",
     "iopub.status.idle": "2024-04-30T11:04:27.775039Z",
     "shell.execute_reply": "2024-04-30T11:04:27.773597Z"
    },
    "papermill": {
     "duration": 0.025281,
     "end_time": "2024-04-30T11:04:27.777544",
     "exception": false,
     "start_time": "2024-04-30T11:04:27.752263",
     "status": "completed"
    },
    "tags": []
   },
   "outputs": [],
   "source": [
    "knn = KNeighborsClassifier()"
   ]
  },
  {
   "cell_type": "code",
   "execution_count": 10,
   "id": "6420d2aa",
   "metadata": {
    "execution": {
     "iopub.execute_input": "2024-04-30T11:04:27.808805Z",
     "iopub.status.busy": "2024-04-30T11:04:27.808371Z",
     "iopub.status.idle": "2024-04-30T11:04:28.164203Z",
     "shell.execute_reply": "2024-04-30T11:04:28.162793Z"
    },
    "papermill": {
     "duration": 0.374603,
     "end_time": "2024-04-30T11:04:28.166925",
     "exception": false,
     "start_time": "2024-04-30T11:04:27.792322",
     "status": "completed"
    },
    "tags": []
   },
   "outputs": [
    {
     "data": {
      "text/html": [
       "<style>#sk-container-id-1 {color: black;background-color: white;}#sk-container-id-1 pre{padding: 0;}#sk-container-id-1 div.sk-toggleable {background-color: white;}#sk-container-id-1 label.sk-toggleable__label {cursor: pointer;display: block;width: 100%;margin-bottom: 0;padding: 0.3em;box-sizing: border-box;text-align: center;}#sk-container-id-1 label.sk-toggleable__label-arrow:before {content: \"▸\";float: left;margin-right: 0.25em;color: #696969;}#sk-container-id-1 label.sk-toggleable__label-arrow:hover:before {color: black;}#sk-container-id-1 div.sk-estimator:hover label.sk-toggleable__label-arrow:before {color: black;}#sk-container-id-1 div.sk-toggleable__content {max-height: 0;max-width: 0;overflow: hidden;text-align: left;background-color: #f0f8ff;}#sk-container-id-1 div.sk-toggleable__content pre {margin: 0.2em;color: black;border-radius: 0.25em;background-color: #f0f8ff;}#sk-container-id-1 input.sk-toggleable__control:checked~div.sk-toggleable__content {max-height: 200px;max-width: 100%;overflow: auto;}#sk-container-id-1 input.sk-toggleable__control:checked~label.sk-toggleable__label-arrow:before {content: \"▾\";}#sk-container-id-1 div.sk-estimator input.sk-toggleable__control:checked~label.sk-toggleable__label {background-color: #d4ebff;}#sk-container-id-1 div.sk-label input.sk-toggleable__control:checked~label.sk-toggleable__label {background-color: #d4ebff;}#sk-container-id-1 input.sk-hidden--visually {border: 0;clip: rect(1px 1px 1px 1px);clip: rect(1px, 1px, 1px, 1px);height: 1px;margin: -1px;overflow: hidden;padding: 0;position: absolute;width: 1px;}#sk-container-id-1 div.sk-estimator {font-family: monospace;background-color: #f0f8ff;border: 1px dotted black;border-radius: 0.25em;box-sizing: border-box;margin-bottom: 0.5em;}#sk-container-id-1 div.sk-estimator:hover {background-color: #d4ebff;}#sk-container-id-1 div.sk-parallel-item::after {content: \"\";width: 100%;border-bottom: 1px solid gray;flex-grow: 1;}#sk-container-id-1 div.sk-label:hover label.sk-toggleable__label {background-color: #d4ebff;}#sk-container-id-1 div.sk-serial::before {content: \"\";position: absolute;border-left: 1px solid gray;box-sizing: border-box;top: 0;bottom: 0;left: 50%;z-index: 0;}#sk-container-id-1 div.sk-serial {display: flex;flex-direction: column;align-items: center;background-color: white;padding-right: 0.2em;padding-left: 0.2em;position: relative;}#sk-container-id-1 div.sk-item {position: relative;z-index: 1;}#sk-container-id-1 div.sk-parallel {display: flex;align-items: stretch;justify-content: center;background-color: white;position: relative;}#sk-container-id-1 div.sk-item::before, #sk-container-id-1 div.sk-parallel-item::before {content: \"\";position: absolute;border-left: 1px solid gray;box-sizing: border-box;top: 0;bottom: 0;left: 50%;z-index: -1;}#sk-container-id-1 div.sk-parallel-item {display: flex;flex-direction: column;z-index: 1;position: relative;background-color: white;}#sk-container-id-1 div.sk-parallel-item:first-child::after {align-self: flex-end;width: 50%;}#sk-container-id-1 div.sk-parallel-item:last-child::after {align-self: flex-start;width: 50%;}#sk-container-id-1 div.sk-parallel-item:only-child::after {width: 0;}#sk-container-id-1 div.sk-dashed-wrapped {border: 1px dashed gray;margin: 0 0.4em 0.5em 0.4em;box-sizing: border-box;padding-bottom: 0.4em;background-color: white;}#sk-container-id-1 div.sk-label label {font-family: monospace;font-weight: bold;display: inline-block;line-height: 1.2em;}#sk-container-id-1 div.sk-label-container {text-align: center;}#sk-container-id-1 div.sk-container {/* jupyter's `normalize.less` sets `[hidden] { display: none; }` but bootstrap.min.css set `[hidden] { display: none !important; }` so we also need the `!important` here to be able to override the default hidden behavior on the sphinx rendered scikit-learn.org. See: https://github.com/scikit-learn/scikit-learn/issues/21755 */display: inline-block !important;position: relative;}#sk-container-id-1 div.sk-text-repr-fallback {display: none;}</style><div id=\"sk-container-id-1\" class=\"sk-top-container\"><div class=\"sk-text-repr-fallback\"><pre>KNeighborsClassifier()</pre><b>In a Jupyter environment, please rerun this cell to show the HTML representation or trust the notebook. <br />On GitHub, the HTML representation is unable to render, please try loading this page with nbviewer.org.</b></div><div class=\"sk-container\" hidden><div class=\"sk-item\"><div class=\"sk-estimator sk-toggleable\"><input class=\"sk-toggleable__control sk-hidden--visually\" id=\"sk-estimator-id-1\" type=\"checkbox\" checked><label for=\"sk-estimator-id-1\" class=\"sk-toggleable__label sk-toggleable__label-arrow\">KNeighborsClassifier</label><div class=\"sk-toggleable__content\"><pre>KNeighborsClassifier()</pre></div></div></div></div></div>"
      ],
      "text/plain": [
       "KNeighborsClassifier()"
      ]
     },
     "execution_count": 10,
     "metadata": {},
     "output_type": "execute_result"
    }
   ],
   "source": [
    "knn.fit(X_train,y_train)\n"
   ]
  },
  {
   "cell_type": "code",
   "execution_count": 11,
   "id": "844bbeef",
   "metadata": {
    "execution": {
     "iopub.execute_input": "2024-04-30T11:04:28.201968Z",
     "iopub.status.busy": "2024-04-30T11:04:28.201558Z",
     "iopub.status.idle": "2024-04-30T11:04:43.331759Z",
     "shell.execute_reply": "2024-04-30T11:04:43.330403Z"
    },
    "papermill": {
     "duration": 15.150255,
     "end_time": "2024-04-30T11:04:43.334748",
     "exception": false,
     "start_time": "2024-04-30T11:04:28.184493",
     "status": "completed"
    },
    "tags": []
   },
   "outputs": [],
   "source": [
    "y_pred = knn.predict(X_test)"
   ]
  },
  {
   "cell_type": "code",
   "execution_count": 12,
   "id": "fb78336b",
   "metadata": {
    "execution": {
     "iopub.execute_input": "2024-04-30T11:04:43.366753Z",
     "iopub.status.busy": "2024-04-30T11:04:43.366314Z",
     "iopub.status.idle": "2024-04-30T11:04:43.371843Z",
     "shell.execute_reply": "2024-04-30T11:04:43.370576Z"
    },
    "papermill": {
     "duration": 0.02452,
     "end_time": "2024-04-30T11:04:43.374537",
     "exception": false,
     "start_time": "2024-04-30T11:04:43.350017",
     "status": "completed"
    },
    "tags": []
   },
   "outputs": [],
   "source": [
    "from sklearn.metrics import accuracy_score"
   ]
  },
  {
   "cell_type": "code",
   "execution_count": 13,
   "id": "9c674987",
   "metadata": {
    "execution": {
     "iopub.execute_input": "2024-04-30T11:04:43.408637Z",
     "iopub.status.busy": "2024-04-30T11:04:43.408193Z",
     "iopub.status.idle": "2024-04-30T11:04:43.418455Z",
     "shell.execute_reply": "2024-04-30T11:04:43.417050Z"
    },
    "papermill": {
     "duration": 0.031945,
     "end_time": "2024-04-30T11:04:43.421570",
     "exception": false,
     "start_time": "2024-04-30T11:04:43.389625",
     "status": "completed"
    },
    "tags": []
   },
   "outputs": [
    {
     "data": {
      "text/plain": [
       "0.9648809523809524"
      ]
     },
     "execution_count": 13,
     "metadata": {},
     "output_type": "execute_result"
    }
   ],
   "source": [
    "accuracy_score(y_test, y_pred)"
   ]
  },
  {
   "cell_type": "code",
   "execution_count": 14,
   "id": "09b94496",
   "metadata": {
    "execution": {
     "iopub.execute_input": "2024-04-30T11:04:43.466913Z",
     "iopub.status.busy": "2024-04-30T11:04:43.466183Z",
     "iopub.status.idle": "2024-04-30T11:04:43.475172Z",
     "shell.execute_reply": "2024-04-30T11:04:43.473480Z"
    },
    "papermill": {
     "duration": 0.035461,
     "end_time": "2024-04-30T11:04:43.478846",
     "exception": false,
     "start_time": "2024-04-30T11:04:43.443385",
     "status": "completed"
    },
    "tags": []
   },
   "outputs": [],
   "source": [
    "from sklearn.preprocessing import StandardScaler\n",
    "scaler = StandardScaler()"
   ]
  },
  {
   "cell_type": "code",
   "execution_count": 15,
   "id": "ef80f5ee",
   "metadata": {
    "execution": {
     "iopub.execute_input": "2024-04-30T11:04:43.520079Z",
     "iopub.status.busy": "2024-04-30T11:04:43.519591Z",
     "iopub.status.idle": "2024-04-30T11:04:44.011269Z",
     "shell.execute_reply": "2024-04-30T11:04:44.010168Z"
    },
    "papermill": {
     "duration": 0.515612,
     "end_time": "2024-04-30T11:04:44.014281",
     "exception": false,
     "start_time": "2024-04-30T11:04:43.498669",
     "status": "completed"
    },
    "tags": []
   },
   "outputs": [],
   "source": [
    "X_train = scaler.fit_transform(X_train)"
   ]
  },
  {
   "cell_type": "code",
   "execution_count": 16,
   "id": "3849bcd3",
   "metadata": {
    "execution": {
     "iopub.execute_input": "2024-04-30T11:04:44.046413Z",
     "iopub.status.busy": "2024-04-30T11:04:44.045948Z",
     "iopub.status.idle": "2024-04-30T11:04:44.107368Z",
     "shell.execute_reply": "2024-04-30T11:04:44.105953Z"
    },
    "papermill": {
     "duration": 0.08096,
     "end_time": "2024-04-30T11:04:44.110396",
     "exception": false,
     "start_time": "2024-04-30T11:04:44.029436",
     "status": "completed"
    },
    "tags": []
   },
   "outputs": [],
   "source": [
    "X_test = scaler.transform(X_test)"
   ]
  },
  {
   "cell_type": "code",
   "execution_count": 17,
   "id": "7d88d887",
   "metadata": {
    "execution": {
     "iopub.execute_input": "2024-04-30T11:04:44.144448Z",
     "iopub.status.busy": "2024-04-30T11:04:44.143967Z",
     "iopub.status.idle": "2024-04-30T11:04:44.150047Z",
     "shell.execute_reply": "2024-04-30T11:04:44.148479Z"
    },
    "papermill": {
     "duration": 0.027078,
     "end_time": "2024-04-30T11:04:44.152909",
     "exception": false,
     "start_time": "2024-04-30T11:04:44.125831",
     "status": "completed"
    },
    "tags": []
   },
   "outputs": [],
   "source": [
    "# PCA \n",
    "from sklearn.decomposition import PCA\n",
    "pca = PCA(n_components=400)"
   ]
  },
  {
   "cell_type": "code",
   "execution_count": 18,
   "id": "e9aba9f2",
   "metadata": {
    "execution": {
     "iopub.execute_input": "2024-04-30T11:04:44.186389Z",
     "iopub.status.busy": "2024-04-30T11:04:44.185927Z",
     "iopub.status.idle": "2024-04-30T11:04:53.924712Z",
     "shell.execute_reply": "2024-04-30T11:04:53.922876Z"
    },
    "papermill": {
     "duration": 9.761135,
     "end_time": "2024-04-30T11:04:53.929365",
     "exception": false,
     "start_time": "2024-04-30T11:04:44.168230",
     "status": "completed"
    },
    "tags": []
   },
   "outputs": [],
   "source": [
    "X_train_trf = pca.fit_transform(X_train)\n",
    "X_test_trf = pca.transform(X_test)"
   ]
  },
  {
   "cell_type": "code",
   "execution_count": 19,
   "id": "8209b839",
   "metadata": {
    "execution": {
     "iopub.execute_input": "2024-04-30T11:04:53.999115Z",
     "iopub.status.busy": "2024-04-30T11:04:53.998357Z",
     "iopub.status.idle": "2024-04-30T11:04:54.077138Z",
     "shell.execute_reply": "2024-04-30T11:04:54.075730Z"
    },
    "papermill": {
     "duration": 0.115836,
     "end_time": "2024-04-30T11:04:54.079858",
     "exception": false,
     "start_time": "2024-04-30T11:04:53.964022",
     "status": "completed"
    },
    "tags": []
   },
   "outputs": [
    {
     "data": {
      "text/html": [
       "<style>#sk-container-id-2 {color: black;background-color: white;}#sk-container-id-2 pre{padding: 0;}#sk-container-id-2 div.sk-toggleable {background-color: white;}#sk-container-id-2 label.sk-toggleable__label {cursor: pointer;display: block;width: 100%;margin-bottom: 0;padding: 0.3em;box-sizing: border-box;text-align: center;}#sk-container-id-2 label.sk-toggleable__label-arrow:before {content: \"▸\";float: left;margin-right: 0.25em;color: #696969;}#sk-container-id-2 label.sk-toggleable__label-arrow:hover:before {color: black;}#sk-container-id-2 div.sk-estimator:hover label.sk-toggleable__label-arrow:before {color: black;}#sk-container-id-2 div.sk-toggleable__content {max-height: 0;max-width: 0;overflow: hidden;text-align: left;background-color: #f0f8ff;}#sk-container-id-2 div.sk-toggleable__content pre {margin: 0.2em;color: black;border-radius: 0.25em;background-color: #f0f8ff;}#sk-container-id-2 input.sk-toggleable__control:checked~div.sk-toggleable__content {max-height: 200px;max-width: 100%;overflow: auto;}#sk-container-id-2 input.sk-toggleable__control:checked~label.sk-toggleable__label-arrow:before {content: \"▾\";}#sk-container-id-2 div.sk-estimator input.sk-toggleable__control:checked~label.sk-toggleable__label {background-color: #d4ebff;}#sk-container-id-2 div.sk-label input.sk-toggleable__control:checked~label.sk-toggleable__label {background-color: #d4ebff;}#sk-container-id-2 input.sk-hidden--visually {border: 0;clip: rect(1px 1px 1px 1px);clip: rect(1px, 1px, 1px, 1px);height: 1px;margin: -1px;overflow: hidden;padding: 0;position: absolute;width: 1px;}#sk-container-id-2 div.sk-estimator {font-family: monospace;background-color: #f0f8ff;border: 1px dotted black;border-radius: 0.25em;box-sizing: border-box;margin-bottom: 0.5em;}#sk-container-id-2 div.sk-estimator:hover {background-color: #d4ebff;}#sk-container-id-2 div.sk-parallel-item::after {content: \"\";width: 100%;border-bottom: 1px solid gray;flex-grow: 1;}#sk-container-id-2 div.sk-label:hover label.sk-toggleable__label {background-color: #d4ebff;}#sk-container-id-2 div.sk-serial::before {content: \"\";position: absolute;border-left: 1px solid gray;box-sizing: border-box;top: 0;bottom: 0;left: 50%;z-index: 0;}#sk-container-id-2 div.sk-serial {display: flex;flex-direction: column;align-items: center;background-color: white;padding-right: 0.2em;padding-left: 0.2em;position: relative;}#sk-container-id-2 div.sk-item {position: relative;z-index: 1;}#sk-container-id-2 div.sk-parallel {display: flex;align-items: stretch;justify-content: center;background-color: white;position: relative;}#sk-container-id-2 div.sk-item::before, #sk-container-id-2 div.sk-parallel-item::before {content: \"\";position: absolute;border-left: 1px solid gray;box-sizing: border-box;top: 0;bottom: 0;left: 50%;z-index: -1;}#sk-container-id-2 div.sk-parallel-item {display: flex;flex-direction: column;z-index: 1;position: relative;background-color: white;}#sk-container-id-2 div.sk-parallel-item:first-child::after {align-self: flex-end;width: 50%;}#sk-container-id-2 div.sk-parallel-item:last-child::after {align-self: flex-start;width: 50%;}#sk-container-id-2 div.sk-parallel-item:only-child::after {width: 0;}#sk-container-id-2 div.sk-dashed-wrapped {border: 1px dashed gray;margin: 0 0.4em 0.5em 0.4em;box-sizing: border-box;padding-bottom: 0.4em;background-color: white;}#sk-container-id-2 div.sk-label label {font-family: monospace;font-weight: bold;display: inline-block;line-height: 1.2em;}#sk-container-id-2 div.sk-label-container {text-align: center;}#sk-container-id-2 div.sk-container {/* jupyter's `normalize.less` sets `[hidden] { display: none; }` but bootstrap.min.css set `[hidden] { display: none !important; }` so we also need the `!important` here to be able to override the default hidden behavior on the sphinx rendered scikit-learn.org. See: https://github.com/scikit-learn/scikit-learn/issues/21755 */display: inline-block !important;position: relative;}#sk-container-id-2 div.sk-text-repr-fallback {display: none;}</style><div id=\"sk-container-id-2\" class=\"sk-top-container\"><div class=\"sk-text-repr-fallback\"><pre>KNeighborsClassifier()</pre><b>In a Jupyter environment, please rerun this cell to show the HTML representation or trust the notebook. <br />On GitHub, the HTML representation is unable to render, please try loading this page with nbviewer.org.</b></div><div class=\"sk-container\" hidden><div class=\"sk-item\"><div class=\"sk-estimator sk-toggleable\"><input class=\"sk-toggleable__control sk-hidden--visually\" id=\"sk-estimator-id-2\" type=\"checkbox\" checked><label for=\"sk-estimator-id-2\" class=\"sk-toggleable__label sk-toggleable__label-arrow\">KNeighborsClassifier</label><div class=\"sk-toggleable__content\"><pre>KNeighborsClassifier()</pre></div></div></div></div></div>"
      ],
      "text/plain": [
       "KNeighborsClassifier()"
      ]
     },
     "execution_count": 19,
     "metadata": {},
     "output_type": "execute_result"
    }
   ],
   "source": [
    "knn.fit(X_train_trf, y_train)"
   ]
  },
  {
   "cell_type": "code",
   "execution_count": 20,
   "id": "d0acda51",
   "metadata": {
    "execution": {
     "iopub.execute_input": "2024-04-30T11:04:54.113106Z",
     "iopub.status.busy": "2024-04-30T11:04:54.112636Z",
     "iopub.status.idle": "2024-04-30T11:04:58.920425Z",
     "shell.execute_reply": "2024-04-30T11:04:58.919092Z"
    },
    "papermill": {
     "duration": 4.827893,
     "end_time": "2024-04-30T11:04:58.923328",
     "exception": false,
     "start_time": "2024-04-30T11:04:54.095435",
     "status": "completed"
    },
    "tags": []
   },
   "outputs": [],
   "source": [
    "y_pred1 = knn.predict(X_test_trf)"
   ]
  },
  {
   "cell_type": "code",
   "execution_count": 21,
   "id": "effd8b57",
   "metadata": {
    "execution": {
     "iopub.execute_input": "2024-04-30T11:04:58.956214Z",
     "iopub.status.busy": "2024-04-30T11:04:58.955763Z",
     "iopub.status.idle": "2024-04-30T11:04:58.965605Z",
     "shell.execute_reply": "2024-04-30T11:04:58.964365Z"
    },
    "papermill": {
     "duration": 0.029411,
     "end_time": "2024-04-30T11:04:58.968081",
     "exception": false,
     "start_time": "2024-04-30T11:04:58.938670",
     "status": "completed"
    },
    "tags": []
   },
   "outputs": [
    {
     "data": {
      "text/plain": [
       "0.9436904761904762"
      ]
     },
     "execution_count": 21,
     "metadata": {},
     "output_type": "execute_result"
    }
   ],
   "source": [
    "accuracy_score(y_test, y_pred1)"
   ]
  },
  {
   "cell_type": "code",
   "execution_count": null,
   "id": "4b97741e",
   "metadata": {
    "papermill": {
     "duration": 0.016043,
     "end_time": "2024-04-30T11:04:58.999773",
     "exception": false,
     "start_time": "2024-04-30T11:04:58.983730",
     "status": "completed"
    },
    "tags": []
   },
   "outputs": [],
   "source": []
  },
  {
   "cell_type": "markdown",
   "id": "7da1afdc",
   "metadata": {
    "papermill": {
     "duration": 0.015364,
     "end_time": "2024-04-30T11:04:59.094513",
     "exception": false,
     "start_time": "2024-04-30T11:04:59.079149",
     "status": "completed"
    },
    "tags": []
   },
   "source": [
    "## Task With Wine Dataset"
   ]
  },
  {
   "cell_type": "code",
   "execution_count": 22,
   "id": "ce05daa5",
   "metadata": {
    "execution": {
     "iopub.execute_input": "2024-04-30T11:04:59.128745Z",
     "iopub.status.busy": "2024-04-30T11:04:59.128315Z",
     "iopub.status.idle": "2024-04-30T11:05:00.786377Z",
     "shell.execute_reply": "2024-04-30T11:05:00.784885Z"
    },
    "papermill": {
     "duration": 1.678844,
     "end_time": "2024-04-30T11:05:00.789690",
     "exception": false,
     "start_time": "2024-04-30T11:04:59.110846",
     "status": "completed"
    },
    "tags": []
   },
   "outputs": [],
   "source": [
    "# Data Loading\n",
    "import pandas as pd\n",
    "wine_data_path = \"https://docs.google.com/spreadsheets/d/e/2PACX-1vQDVwxneOKOaJL13QMhkAhYrgWlH1tICY7RacUnj_lL8m9uUWaaUf3p7bScNyh_D2Rvt7nc1q11adSy/pub?gid=647503637&single=true&output=csv\"\n",
    "wine = pd.read_csv(wine_data_path)"
   ]
  },
  {
   "cell_type": "code",
   "execution_count": 23,
   "id": "38b23b75",
   "metadata": {
    "execution": {
     "iopub.execute_input": "2024-04-30T11:05:00.823739Z",
     "iopub.status.busy": "2024-04-30T11:05:00.823312Z",
     "iopub.status.idle": "2024-04-30T11:05:00.849145Z",
     "shell.execute_reply": "2024-04-30T11:05:00.847956Z"
    },
    "papermill": {
     "duration": 0.045823,
     "end_time": "2024-04-30T11:05:00.851674",
     "exception": false,
     "start_time": "2024-04-30T11:05:00.805851",
     "status": "completed"
    },
    "tags": []
   },
   "outputs": [
    {
     "name": "stdout",
     "output_type": "stream",
     "text": [
      "<class 'pandas.core.frame.DataFrame'>\n",
      "RangeIndex: 6497 entries, 0 to 6496\n",
      "Data columns (total 13 columns):\n",
      " #   Column                Non-Null Count  Dtype  \n",
      "---  ------                --------------  -----  \n",
      " 0   type                  6497 non-null   object \n",
      " 1   fixed acidity         6487 non-null   float64\n",
      " 2   volatile acidity      6489 non-null   float64\n",
      " 3   citric acid           6494 non-null   float64\n",
      " 4   residual sugar        6495 non-null   float64\n",
      " 5   chlorides             6495 non-null   float64\n",
      " 6   free sulfur dioxide   6497 non-null   float64\n",
      " 7   total sulfur dioxide  6497 non-null   float64\n",
      " 8   density               6497 non-null   float64\n",
      " 9   pH                    6488 non-null   float64\n",
      " 10  sulphates             6493 non-null   float64\n",
      " 11  alcohol               6497 non-null   float64\n",
      " 12  quality               6497 non-null   int64  \n",
      "dtypes: float64(11), int64(1), object(1)\n",
      "memory usage: 660.0+ KB\n"
     ]
    }
   ],
   "source": [
    "wine.info()"
   ]
  },
  {
   "cell_type": "code",
   "execution_count": 24,
   "id": "5c996224",
   "metadata": {
    "execution": {
     "iopub.execute_input": "2024-04-30T11:05:00.885369Z",
     "iopub.status.busy": "2024-04-30T11:05:00.884856Z",
     "iopub.status.idle": "2024-04-30T11:05:00.896413Z",
     "shell.execute_reply": "2024-04-30T11:05:00.895153Z"
    },
    "papermill": {
     "duration": 0.031692,
     "end_time": "2024-04-30T11:05:00.899337",
     "exception": false,
     "start_time": "2024-04-30T11:05:00.867645",
     "status": "completed"
    },
    "tags": []
   },
   "outputs": [
    {
     "data": {
      "text/plain": [
       "type                     0\n",
       "fixed acidity           10\n",
       "volatile acidity         8\n",
       "citric acid              3\n",
       "residual sugar           2\n",
       "chlorides                2\n",
       "free sulfur dioxide      0\n",
       "total sulfur dioxide     0\n",
       "density                  0\n",
       "pH                       9\n",
       "sulphates                4\n",
       "alcohol                  0\n",
       "quality                  0\n",
       "dtype: int64"
      ]
     },
     "execution_count": 24,
     "metadata": {},
     "output_type": "execute_result"
    }
   ],
   "source": [
    "wine.isna().sum()"
   ]
  },
  {
   "cell_type": "code",
   "execution_count": 25,
   "id": "5f163486",
   "metadata": {
    "execution": {
     "iopub.execute_input": "2024-04-30T11:05:00.933323Z",
     "iopub.status.busy": "2024-04-30T11:05:00.932853Z",
     "iopub.status.idle": "2024-04-30T11:05:00.946508Z",
     "shell.execute_reply": "2024-04-30T11:05:00.944924Z"
    },
    "papermill": {
     "duration": 0.033979,
     "end_time": "2024-04-30T11:05:00.949285",
     "exception": false,
     "start_time": "2024-04-30T11:05:00.915306",
     "status": "completed"
    },
    "tags": []
   },
   "outputs": [
    {
     "data": {
      "text/plain": [
       "1168"
      ]
     },
     "execution_count": 25,
     "metadata": {},
     "output_type": "execute_result"
    }
   ],
   "source": [
    "wine.duplicated().sum()"
   ]
  },
  {
   "cell_type": "code",
   "execution_count": 26,
   "id": "a3195c8a",
   "metadata": {
    "execution": {
     "iopub.execute_input": "2024-04-30T11:05:00.984668Z",
     "iopub.status.busy": "2024-04-30T11:05:00.984231Z",
     "iopub.status.idle": "2024-04-30T11:05:00.994559Z",
     "shell.execute_reply": "2024-04-30T11:05:00.993192Z"
    },
    "papermill": {
     "duration": 0.031318,
     "end_time": "2024-04-30T11:05:00.997432",
     "exception": false,
     "start_time": "2024-04-30T11:05:00.966114",
     "status": "completed"
    },
    "tags": []
   },
   "outputs": [],
   "source": [
    "# Drop rows with missing values\n",
    "\n",
    "wine_df = wine.dropna()"
   ]
  },
  {
   "cell_type": "code",
   "execution_count": 27,
   "id": "66f25d32",
   "metadata": {
    "execution": {
     "iopub.execute_input": "2024-04-30T11:05:01.031852Z",
     "iopub.status.busy": "2024-04-30T11:05:01.031386Z",
     "iopub.status.idle": "2024-04-30T11:05:01.043503Z",
     "shell.execute_reply": "2024-04-30T11:05:01.042105Z"
    },
    "papermill": {
     "duration": 0.032906,
     "end_time": "2024-04-30T11:05:01.046630",
     "exception": false,
     "start_time": "2024-04-30T11:05:01.013724",
     "status": "completed"
    },
    "tags": []
   },
   "outputs": [],
   "source": [
    "# Drop duplicate rows\n",
    "wine_df = wine_df.drop_duplicates()"
   ]
  },
  {
   "cell_type": "code",
   "execution_count": 28,
   "id": "8b9f1641",
   "metadata": {
    "execution": {
     "iopub.execute_input": "2024-04-30T11:05:01.081534Z",
     "iopub.status.busy": "2024-04-30T11:05:01.081122Z",
     "iopub.status.idle": "2024-04-30T11:05:01.087979Z",
     "shell.execute_reply": "2024-04-30T11:05:01.086886Z"
    },
    "papermill": {
     "duration": 0.027361,
     "end_time": "2024-04-30T11:05:01.090620",
     "exception": false,
     "start_time": "2024-04-30T11:05:01.063259",
     "status": "completed"
    },
    "tags": []
   },
   "outputs": [],
   "source": [
    "XW = wine_df.iloc[:,1:13]\n",
    "yw = wine_df.iloc[:,0]"
   ]
  },
  {
   "cell_type": "code",
   "execution_count": 29,
   "id": "05925d0f",
   "metadata": {
    "execution": {
     "iopub.execute_input": "2024-04-30T11:05:01.125444Z",
     "iopub.status.busy": "2024-04-30T11:05:01.125015Z",
     "iopub.status.idle": "2024-04-30T11:05:01.136285Z",
     "shell.execute_reply": "2024-04-30T11:05:01.135086Z"
    },
    "papermill": {
     "duration": 0.031523,
     "end_time": "2024-04-30T11:05:01.138955",
     "exception": false,
     "start_time": "2024-04-30T11:05:01.107432",
     "status": "completed"
    },
    "tags": []
   },
   "outputs": [],
   "source": [
    "from sklearn.model_selection import train_test_split\n",
    "X_train, X_test, y_train, y_test = train_test_split(XW, yw, test_size=0.2, random_state=23)\n"
   ]
  },
  {
   "cell_type": "code",
   "execution_count": 30,
   "id": "465dc5c7",
   "metadata": {
    "execution": {
     "iopub.execute_input": "2024-04-30T11:05:01.173058Z",
     "iopub.status.busy": "2024-04-30T11:05:01.172574Z",
     "iopub.status.idle": "2024-04-30T11:05:01.178509Z",
     "shell.execute_reply": "2024-04-30T11:05:01.177334Z"
    },
    "papermill": {
     "duration": 0.026046,
     "end_time": "2024-04-30T11:05:01.181193",
     "exception": false,
     "start_time": "2024-04-30T11:05:01.155147",
     "status": "completed"
    },
    "tags": []
   },
   "outputs": [],
   "source": [
    "# Standardization\n",
    "from sklearn.preprocessing import StandardScaler\n",
    "scaler = StandardScaler()"
   ]
  },
  {
   "cell_type": "code",
   "execution_count": 31,
   "id": "623f6439",
   "metadata": {
    "execution": {
     "iopub.execute_input": "2024-04-30T11:05:01.215057Z",
     "iopub.status.busy": "2024-04-30T11:05:01.214602Z",
     "iopub.status.idle": "2024-04-30T11:05:01.227546Z",
     "shell.execute_reply": "2024-04-30T11:05:01.226275Z"
    },
    "papermill": {
     "duration": 0.033176,
     "end_time": "2024-04-30T11:05:01.230360",
     "exception": false,
     "start_time": "2024-04-30T11:05:01.197184",
     "status": "completed"
    },
    "tags": []
   },
   "outputs": [],
   "source": [
    "X_train = scaler.fit_transform(X_train)\n",
    "X_test = scaler.transform(X_test)"
   ]
  },
  {
   "cell_type": "markdown",
   "id": "d1e68d14",
   "metadata": {
    "papermill": {
     "duration": 0.015773,
     "end_time": "2024-04-30T11:05:01.262348",
     "exception": false,
     "start_time": "2024-04-30T11:05:01.246575",
     "status": "completed"
    },
    "tags": []
   },
   "source": [
    "## Without PCA"
   ]
  },
  {
   "cell_type": "code",
   "execution_count": 32,
   "id": "0d9f10ad",
   "metadata": {
    "execution": {
     "iopub.execute_input": "2024-04-30T11:05:01.297701Z",
     "iopub.status.busy": "2024-04-30T11:05:01.297271Z",
     "iopub.status.idle": "2024-04-30T11:05:01.302699Z",
     "shell.execute_reply": "2024-04-30T11:05:01.301537Z"
    },
    "papermill": {
     "duration": 0.026672,
     "end_time": "2024-04-30T11:05:01.305106",
     "exception": false,
     "start_time": "2024-04-30T11:05:01.278434",
     "status": "completed"
    },
    "tags": []
   },
   "outputs": [],
   "source": [
    "Knn = KNeighborsClassifier(n_neighbors=5)"
   ]
  },
  {
   "cell_type": "code",
   "execution_count": 33,
   "id": "f3a65eec",
   "metadata": {
    "execution": {
     "iopub.execute_input": "2024-04-30T11:05:01.338790Z",
     "iopub.status.busy": "2024-04-30T11:05:01.338377Z",
     "iopub.status.idle": "2024-04-30T11:05:01.361238Z",
     "shell.execute_reply": "2024-04-30T11:05:01.360057Z"
    },
    "papermill": {
     "duration": 0.042758,
     "end_time": "2024-04-30T11:05:01.363895",
     "exception": false,
     "start_time": "2024-04-30T11:05:01.321137",
     "status": "completed"
    },
    "tags": []
   },
   "outputs": [
    {
     "data": {
      "text/html": [
       "<style>#sk-container-id-3 {color: black;background-color: white;}#sk-container-id-3 pre{padding: 0;}#sk-container-id-3 div.sk-toggleable {background-color: white;}#sk-container-id-3 label.sk-toggleable__label {cursor: pointer;display: block;width: 100%;margin-bottom: 0;padding: 0.3em;box-sizing: border-box;text-align: center;}#sk-container-id-3 label.sk-toggleable__label-arrow:before {content: \"▸\";float: left;margin-right: 0.25em;color: #696969;}#sk-container-id-3 label.sk-toggleable__label-arrow:hover:before {color: black;}#sk-container-id-3 div.sk-estimator:hover label.sk-toggleable__label-arrow:before {color: black;}#sk-container-id-3 div.sk-toggleable__content {max-height: 0;max-width: 0;overflow: hidden;text-align: left;background-color: #f0f8ff;}#sk-container-id-3 div.sk-toggleable__content pre {margin: 0.2em;color: black;border-radius: 0.25em;background-color: #f0f8ff;}#sk-container-id-3 input.sk-toggleable__control:checked~div.sk-toggleable__content {max-height: 200px;max-width: 100%;overflow: auto;}#sk-container-id-3 input.sk-toggleable__control:checked~label.sk-toggleable__label-arrow:before {content: \"▾\";}#sk-container-id-3 div.sk-estimator input.sk-toggleable__control:checked~label.sk-toggleable__label {background-color: #d4ebff;}#sk-container-id-3 div.sk-label input.sk-toggleable__control:checked~label.sk-toggleable__label {background-color: #d4ebff;}#sk-container-id-3 input.sk-hidden--visually {border: 0;clip: rect(1px 1px 1px 1px);clip: rect(1px, 1px, 1px, 1px);height: 1px;margin: -1px;overflow: hidden;padding: 0;position: absolute;width: 1px;}#sk-container-id-3 div.sk-estimator {font-family: monospace;background-color: #f0f8ff;border: 1px dotted black;border-radius: 0.25em;box-sizing: border-box;margin-bottom: 0.5em;}#sk-container-id-3 div.sk-estimator:hover {background-color: #d4ebff;}#sk-container-id-3 div.sk-parallel-item::after {content: \"\";width: 100%;border-bottom: 1px solid gray;flex-grow: 1;}#sk-container-id-3 div.sk-label:hover label.sk-toggleable__label {background-color: #d4ebff;}#sk-container-id-3 div.sk-serial::before {content: \"\";position: absolute;border-left: 1px solid gray;box-sizing: border-box;top: 0;bottom: 0;left: 50%;z-index: 0;}#sk-container-id-3 div.sk-serial {display: flex;flex-direction: column;align-items: center;background-color: white;padding-right: 0.2em;padding-left: 0.2em;position: relative;}#sk-container-id-3 div.sk-item {position: relative;z-index: 1;}#sk-container-id-3 div.sk-parallel {display: flex;align-items: stretch;justify-content: center;background-color: white;position: relative;}#sk-container-id-3 div.sk-item::before, #sk-container-id-3 div.sk-parallel-item::before {content: \"\";position: absolute;border-left: 1px solid gray;box-sizing: border-box;top: 0;bottom: 0;left: 50%;z-index: -1;}#sk-container-id-3 div.sk-parallel-item {display: flex;flex-direction: column;z-index: 1;position: relative;background-color: white;}#sk-container-id-3 div.sk-parallel-item:first-child::after {align-self: flex-end;width: 50%;}#sk-container-id-3 div.sk-parallel-item:last-child::after {align-self: flex-start;width: 50%;}#sk-container-id-3 div.sk-parallel-item:only-child::after {width: 0;}#sk-container-id-3 div.sk-dashed-wrapped {border: 1px dashed gray;margin: 0 0.4em 0.5em 0.4em;box-sizing: border-box;padding-bottom: 0.4em;background-color: white;}#sk-container-id-3 div.sk-label label {font-family: monospace;font-weight: bold;display: inline-block;line-height: 1.2em;}#sk-container-id-3 div.sk-label-container {text-align: center;}#sk-container-id-3 div.sk-container {/* jupyter's `normalize.less` sets `[hidden] { display: none; }` but bootstrap.min.css set `[hidden] { display: none !important; }` so we also need the `!important` here to be able to override the default hidden behavior on the sphinx rendered scikit-learn.org. See: https://github.com/scikit-learn/scikit-learn/issues/21755 */display: inline-block !important;position: relative;}#sk-container-id-3 div.sk-text-repr-fallback {display: none;}</style><div id=\"sk-container-id-3\" class=\"sk-top-container\"><div class=\"sk-text-repr-fallback\"><pre>KNeighborsClassifier()</pre><b>In a Jupyter environment, please rerun this cell to show the HTML representation or trust the notebook. <br />On GitHub, the HTML representation is unable to render, please try loading this page with nbviewer.org.</b></div><div class=\"sk-container\" hidden><div class=\"sk-item\"><div class=\"sk-estimator sk-toggleable\"><input class=\"sk-toggleable__control sk-hidden--visually\" id=\"sk-estimator-id-3\" type=\"checkbox\" checked><label for=\"sk-estimator-id-3\" class=\"sk-toggleable__label sk-toggleable__label-arrow\">KNeighborsClassifier</label><div class=\"sk-toggleable__content\"><pre>KNeighborsClassifier()</pre></div></div></div></div></div>"
      ],
      "text/plain": [
       "KNeighborsClassifier()"
      ]
     },
     "execution_count": 33,
     "metadata": {},
     "output_type": "execute_result"
    }
   ],
   "source": [
    "knn.fit(X_train, y_train)"
   ]
  },
  {
   "cell_type": "code",
   "execution_count": 34,
   "id": "2ae69732",
   "metadata": {
    "execution": {
     "iopub.execute_input": "2024-04-30T11:05:01.398364Z",
     "iopub.status.busy": "2024-04-30T11:05:01.397901Z",
     "iopub.status.idle": "2024-04-30T11:05:01.536152Z",
     "shell.execute_reply": "2024-04-30T11:05:01.535032Z"
    },
    "papermill": {
     "duration": 0.158694,
     "end_time": "2024-04-30T11:05:01.538983",
     "exception": false,
     "start_time": "2024-04-30T11:05:01.380289",
     "status": "completed"
    },
    "tags": []
   },
   "outputs": [],
   "source": [
    "y_pred = knn.predict(X_test)"
   ]
  },
  {
   "cell_type": "code",
   "execution_count": 35,
   "id": "cdc0d822",
   "metadata": {
    "execution": {
     "iopub.execute_input": "2024-04-30T11:05:01.574817Z",
     "iopub.status.busy": "2024-04-30T11:05:01.573795Z",
     "iopub.status.idle": "2024-04-30T11:05:01.586473Z",
     "shell.execute_reply": "2024-04-30T11:05:01.585077Z"
    },
    "papermill": {
     "duration": 0.033649,
     "end_time": "2024-04-30T11:05:01.589247",
     "exception": false,
     "start_time": "2024-04-30T11:05:01.555598",
     "status": "completed"
    },
    "tags": []
   },
   "outputs": [
    {
     "data": {
      "text/plain": [
       "0.9933899905571294"
      ]
     },
     "execution_count": 35,
     "metadata": {},
     "output_type": "execute_result"
    }
   ],
   "source": [
    "accuracy_score(y_test, y_pred)"
   ]
  },
  {
   "cell_type": "markdown",
   "id": "b0e9b2f7",
   "metadata": {
    "papermill": {
     "duration": 0.016069,
     "end_time": "2024-04-30T11:05:01.622548",
     "exception": false,
     "start_time": "2024-04-30T11:05:01.606479",
     "status": "completed"
    },
    "tags": []
   },
   "source": [
    "## With PCA"
   ]
  },
  {
   "cell_type": "code",
   "execution_count": 36,
   "id": "b82b97ed",
   "metadata": {
    "execution": {
     "iopub.execute_input": "2024-04-30T11:05:01.657886Z",
     "iopub.status.busy": "2024-04-30T11:05:01.657458Z",
     "iopub.status.idle": "2024-04-30T11:05:01.663473Z",
     "shell.execute_reply": "2024-04-30T11:05:01.661913Z"
    },
    "papermill": {
     "duration": 0.027367,
     "end_time": "2024-04-30T11:05:01.666278",
     "exception": false,
     "start_time": "2024-04-30T11:05:01.638911",
     "status": "completed"
    },
    "tags": []
   },
   "outputs": [],
   "source": [
    "from sklearn.decomposition import PCA\n",
    "pca = PCA(n_components=6)"
   ]
  },
  {
   "cell_type": "code",
   "execution_count": 37,
   "id": "052f9d67",
   "metadata": {
    "execution": {
     "iopub.execute_input": "2024-04-30T11:05:01.706339Z",
     "iopub.status.busy": "2024-04-30T11:05:01.705876Z",
     "iopub.status.idle": "2024-04-30T11:05:01.724676Z",
     "shell.execute_reply": "2024-04-30T11:05:01.722817Z"
    },
    "papermill": {
     "duration": 0.041389,
     "end_time": "2024-04-30T11:05:01.728948",
     "exception": false,
     "start_time": "2024-04-30T11:05:01.687559",
     "status": "completed"
    },
    "tags": []
   },
   "outputs": [],
   "source": [
    "X_train_pca = pca.fit_transform(X_train)\n",
    "X_test_pca = pca.transform(X_test)"
   ]
  },
  {
   "cell_type": "code",
   "execution_count": 38,
   "id": "5dd27516",
   "metadata": {
    "execution": {
     "iopub.execute_input": "2024-04-30T11:05:01.801394Z",
     "iopub.status.busy": "2024-04-30T11:05:01.800697Z",
     "iopub.status.idle": "2024-04-30T11:05:01.807397Z",
     "shell.execute_reply": "2024-04-30T11:05:01.806179Z"
    },
    "papermill": {
     "duration": 0.047189,
     "end_time": "2024-04-30T11:05:01.811130",
     "exception": false,
     "start_time": "2024-04-30T11:05:01.763941",
     "status": "completed"
    },
    "tags": []
   },
   "outputs": [],
   "source": [
    "Knn_pca = KNeighborsClassifier(n_neighbors=5)"
   ]
  },
  {
   "cell_type": "code",
   "execution_count": 39,
   "id": "432c49a7",
   "metadata": {
    "execution": {
     "iopub.execute_input": "2024-04-30T11:05:01.861428Z",
     "iopub.status.busy": "2024-04-30T11:05:01.860974Z",
     "iopub.status.idle": "2024-04-30T11:05:01.881731Z",
     "shell.execute_reply": "2024-04-30T11:05:01.880673Z"
    },
    "papermill": {
     "duration": 0.041111,
     "end_time": "2024-04-30T11:05:01.884355",
     "exception": false,
     "start_time": "2024-04-30T11:05:01.843244",
     "status": "completed"
    },
    "tags": []
   },
   "outputs": [
    {
     "data": {
      "text/html": [
       "<style>#sk-container-id-4 {color: black;background-color: white;}#sk-container-id-4 pre{padding: 0;}#sk-container-id-4 div.sk-toggleable {background-color: white;}#sk-container-id-4 label.sk-toggleable__label {cursor: pointer;display: block;width: 100%;margin-bottom: 0;padding: 0.3em;box-sizing: border-box;text-align: center;}#sk-container-id-4 label.sk-toggleable__label-arrow:before {content: \"▸\";float: left;margin-right: 0.25em;color: #696969;}#sk-container-id-4 label.sk-toggleable__label-arrow:hover:before {color: black;}#sk-container-id-4 div.sk-estimator:hover label.sk-toggleable__label-arrow:before {color: black;}#sk-container-id-4 div.sk-toggleable__content {max-height: 0;max-width: 0;overflow: hidden;text-align: left;background-color: #f0f8ff;}#sk-container-id-4 div.sk-toggleable__content pre {margin: 0.2em;color: black;border-radius: 0.25em;background-color: #f0f8ff;}#sk-container-id-4 input.sk-toggleable__control:checked~div.sk-toggleable__content {max-height: 200px;max-width: 100%;overflow: auto;}#sk-container-id-4 input.sk-toggleable__control:checked~label.sk-toggleable__label-arrow:before {content: \"▾\";}#sk-container-id-4 div.sk-estimator input.sk-toggleable__control:checked~label.sk-toggleable__label {background-color: #d4ebff;}#sk-container-id-4 div.sk-label input.sk-toggleable__control:checked~label.sk-toggleable__label {background-color: #d4ebff;}#sk-container-id-4 input.sk-hidden--visually {border: 0;clip: rect(1px 1px 1px 1px);clip: rect(1px, 1px, 1px, 1px);height: 1px;margin: -1px;overflow: hidden;padding: 0;position: absolute;width: 1px;}#sk-container-id-4 div.sk-estimator {font-family: monospace;background-color: #f0f8ff;border: 1px dotted black;border-radius: 0.25em;box-sizing: border-box;margin-bottom: 0.5em;}#sk-container-id-4 div.sk-estimator:hover {background-color: #d4ebff;}#sk-container-id-4 div.sk-parallel-item::after {content: \"\";width: 100%;border-bottom: 1px solid gray;flex-grow: 1;}#sk-container-id-4 div.sk-label:hover label.sk-toggleable__label {background-color: #d4ebff;}#sk-container-id-4 div.sk-serial::before {content: \"\";position: absolute;border-left: 1px solid gray;box-sizing: border-box;top: 0;bottom: 0;left: 50%;z-index: 0;}#sk-container-id-4 div.sk-serial {display: flex;flex-direction: column;align-items: center;background-color: white;padding-right: 0.2em;padding-left: 0.2em;position: relative;}#sk-container-id-4 div.sk-item {position: relative;z-index: 1;}#sk-container-id-4 div.sk-parallel {display: flex;align-items: stretch;justify-content: center;background-color: white;position: relative;}#sk-container-id-4 div.sk-item::before, #sk-container-id-4 div.sk-parallel-item::before {content: \"\";position: absolute;border-left: 1px solid gray;box-sizing: border-box;top: 0;bottom: 0;left: 50%;z-index: -1;}#sk-container-id-4 div.sk-parallel-item {display: flex;flex-direction: column;z-index: 1;position: relative;background-color: white;}#sk-container-id-4 div.sk-parallel-item:first-child::after {align-self: flex-end;width: 50%;}#sk-container-id-4 div.sk-parallel-item:last-child::after {align-self: flex-start;width: 50%;}#sk-container-id-4 div.sk-parallel-item:only-child::after {width: 0;}#sk-container-id-4 div.sk-dashed-wrapped {border: 1px dashed gray;margin: 0 0.4em 0.5em 0.4em;box-sizing: border-box;padding-bottom: 0.4em;background-color: white;}#sk-container-id-4 div.sk-label label {font-family: monospace;font-weight: bold;display: inline-block;line-height: 1.2em;}#sk-container-id-4 div.sk-label-container {text-align: center;}#sk-container-id-4 div.sk-container {/* jupyter's `normalize.less` sets `[hidden] { display: none; }` but bootstrap.min.css set `[hidden] { display: none !important; }` so we also need the `!important` here to be able to override the default hidden behavior on the sphinx rendered scikit-learn.org. See: https://github.com/scikit-learn/scikit-learn/issues/21755 */display: inline-block !important;position: relative;}#sk-container-id-4 div.sk-text-repr-fallback {display: none;}</style><div id=\"sk-container-id-4\" class=\"sk-top-container\"><div class=\"sk-text-repr-fallback\"><pre>KNeighborsClassifier()</pre><b>In a Jupyter environment, please rerun this cell to show the HTML representation or trust the notebook. <br />On GitHub, the HTML representation is unable to render, please try loading this page with nbviewer.org.</b></div><div class=\"sk-container\" hidden><div class=\"sk-item\"><div class=\"sk-estimator sk-toggleable\"><input class=\"sk-toggleable__control sk-hidden--visually\" id=\"sk-estimator-id-4\" type=\"checkbox\" checked><label for=\"sk-estimator-id-4\" class=\"sk-toggleable__label sk-toggleable__label-arrow\">KNeighborsClassifier</label><div class=\"sk-toggleable__content\"><pre>KNeighborsClassifier()</pre></div></div></div></div></div>"
      ],
      "text/plain": [
       "KNeighborsClassifier()"
      ]
     },
     "execution_count": 39,
     "metadata": {},
     "output_type": "execute_result"
    }
   ],
   "source": [
    "Knn_pca.fit(X_train_pca, y_train)"
   ]
  },
  {
   "cell_type": "code",
   "execution_count": 40,
   "id": "699f9b8e",
   "metadata": {
    "execution": {
     "iopub.execute_input": "2024-04-30T11:05:01.919509Z",
     "iopub.status.busy": "2024-04-30T11:05:01.919112Z",
     "iopub.status.idle": "2024-04-30T11:05:02.004346Z",
     "shell.execute_reply": "2024-04-30T11:05:02.003070Z"
    },
    "papermill": {
     "duration": 0.106179,
     "end_time": "2024-04-30T11:05:02.007270",
     "exception": false,
     "start_time": "2024-04-30T11:05:01.901091",
     "status": "completed"
    },
    "tags": []
   },
   "outputs": [],
   "source": [
    "y_pred_pca = Knn_pca.predict(X_test_pca)"
   ]
  },
  {
   "cell_type": "code",
   "execution_count": 41,
   "id": "e70eee21",
   "metadata": {
    "execution": {
     "iopub.execute_input": "2024-04-30T11:05:02.042637Z",
     "iopub.status.busy": "2024-04-30T11:05:02.042231Z",
     "iopub.status.idle": "2024-04-30T11:05:02.054640Z",
     "shell.execute_reply": "2024-04-30T11:05:02.053335Z"
    },
    "papermill": {
     "duration": 0.033337,
     "end_time": "2024-04-30T11:05:02.057304",
     "exception": false,
     "start_time": "2024-04-30T11:05:02.023967",
     "status": "completed"
    },
    "tags": []
   },
   "outputs": [
    {
     "data": {
      "text/plain": [
       "0.9896128423040604"
      ]
     },
     "execution_count": 41,
     "metadata": {},
     "output_type": "execute_result"
    }
   ],
   "source": [
    "accuracy_score(y_test, y_pred_pca)"
   ]
  },
  {
   "cell_type": "code",
   "execution_count": null,
   "id": "25a43935",
   "metadata": {
    "papermill": {
     "duration": 0.017075,
     "end_time": "2024-04-30T11:05:02.091830",
     "exception": false,
     "start_time": "2024-04-30T11:05:02.074755",
     "status": "completed"
    },
    "tags": []
   },
   "outputs": [],
   "source": []
  }
 ],
 "metadata": {
  "kaggle": {
   "accelerator": "none",
   "dataSources": [
    {
     "databundleVersionId": 861823,
     "sourceId": 3004,
     "sourceType": "competition"
    }
   ],
   "dockerImageVersionId": 30698,
   "isGpuEnabled": false,
   "isInternetEnabled": true,
   "language": "python",
   "sourceType": "notebook"
  },
  "kernelspec": {
   "display_name": "Python 3",
   "language": "python",
   "name": "python3"
  },
  "language_info": {
   "codemirror_mode": {
    "name": "ipython",
    "version": 3
   },
   "file_extension": ".py",
   "mimetype": "text/x-python",
   "name": "python",
   "nbconvert_exporter": "python",
   "pygments_lexer": "ipython3",
   "version": "3.10.13"
  },
  "papermill": {
   "default_parameters": {},
   "duration": 47.664033,
   "end_time": "2024-04-30T11:05:02.832213",
   "environment_variables": {},
   "exception": null,
   "input_path": "__notebook__.ipynb",
   "output_path": "__notebook__.ipynb",
   "parameters": {},
   "start_time": "2024-04-30T11:04:15.168180",
   "version": "2.5.0"
  }
 },
 "nbformat": 4,
 "nbformat_minor": 5
}
