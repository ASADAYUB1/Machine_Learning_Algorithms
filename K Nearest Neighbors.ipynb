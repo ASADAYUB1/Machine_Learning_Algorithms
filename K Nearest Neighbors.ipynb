{
 "cells": [
  {
   "cell_type": "markdown",
   "id": "af86ffb4",
   "metadata": {},
   "source": [
    "# K Nearest Neighbors"
   ]
  },
  {
   "cell_type": "code",
   "execution_count": 1,
   "id": "84aef8a4",
   "metadata": {},
   "outputs": [],
   "source": [
    "import numpy as np \n",
    "import pandas as pd\n",
    "import matplotlib.pyplot as plt"
   ]
  },
  {
   "cell_type": "code",
   "execution_count": 3,
   "id": "b805a10e",
   "metadata": {},
   "outputs": [
    {
     "data": {
      "text/html": [
       "<div>\n",
       "<style scoped>\n",
       "    .dataframe tbody tr th:only-of-type {\n",
       "        vertical-align: middle;\n",
       "    }\n",
       "\n",
       "    .dataframe tbody tr th {\n",
       "        vertical-align: top;\n",
       "    }\n",
       "\n",
       "    .dataframe thead th {\n",
       "        text-align: right;\n",
       "    }\n",
       "</style>\n",
       "<table border=\"1\" class=\"dataframe\">\n",
       "  <thead>\n",
       "    <tr style=\"text-align: right;\">\n",
       "      <th></th>\n",
       "      <th>User ID</th>\n",
       "      <th>Gender</th>\n",
       "      <th>Age</th>\n",
       "      <th>EstimatedSalary</th>\n",
       "      <th>Purchased</th>\n",
       "    </tr>\n",
       "  </thead>\n",
       "  <tbody>\n",
       "    <tr>\n",
       "      <th>0</th>\n",
       "      <td>15624510</td>\n",
       "      <td>Male</td>\n",
       "      <td>19</td>\n",
       "      <td>19000</td>\n",
       "      <td>0</td>\n",
       "    </tr>\n",
       "    <tr>\n",
       "      <th>1</th>\n",
       "      <td>15810944</td>\n",
       "      <td>Male</td>\n",
       "      <td>35</td>\n",
       "      <td>20000</td>\n",
       "      <td>0</td>\n",
       "    </tr>\n",
       "    <tr>\n",
       "      <th>2</th>\n",
       "      <td>15668575</td>\n",
       "      <td>Female</td>\n",
       "      <td>26</td>\n",
       "      <td>43000</td>\n",
       "      <td>0</td>\n",
       "    </tr>\n",
       "    <tr>\n",
       "      <th>3</th>\n",
       "      <td>15603246</td>\n",
       "      <td>Female</td>\n",
       "      <td>27</td>\n",
       "      <td>57000</td>\n",
       "      <td>0</td>\n",
       "    </tr>\n",
       "    <tr>\n",
       "      <th>4</th>\n",
       "      <td>15804002</td>\n",
       "      <td>Male</td>\n",
       "      <td>19</td>\n",
       "      <td>76000</td>\n",
       "      <td>0</td>\n",
       "    </tr>\n",
       "  </tbody>\n",
       "</table>\n",
       "</div>"
      ],
      "text/plain": [
       "    User ID  Gender  Age  EstimatedSalary  Purchased\n",
       "0  15624510    Male   19            19000          0\n",
       "1  15810944    Male   35            20000          0\n",
       "2  15668575  Female   26            43000          0\n",
       "3  15603246  Female   27            57000          0\n",
       "4  15804002    Male   19            76000          0"
      ]
     },
     "execution_count": 3,
     "metadata": {},
     "output_type": "execute_result"
    }
   ],
   "source": [
    "data = pd.read_csv('Social_Network_Ads.csv')\n",
    "data.head()"
   ]
  },
  {
   "cell_type": "code",
   "execution_count": 4,
   "id": "879d9f9d",
   "metadata": {},
   "outputs": [],
   "source": [
    "X = data.iloc[:,2:4].values"
   ]
  },
  {
   "cell_type": "code",
   "execution_count": 6,
   "id": "d12f3a62",
   "metadata": {},
   "outputs": [],
   "source": [
    "y = data.iloc[:,-1].values"
   ]
  },
  {
   "cell_type": "code",
   "execution_count": 21,
   "id": "69e20ff6",
   "metadata": {},
   "outputs": [],
   "source": [
    "from sklearn.model_selection import train_test_split\n",
    "X_train, X_test, y_train, y_test = train_test_split(X,y, test_size = 0.3)"
   ]
  },
  {
   "cell_type": "code",
   "execution_count": 22,
   "id": "e7260ef0",
   "metadata": {},
   "outputs": [],
   "source": [
    "from sklearn.preprocessing import StandardScaler\n",
    "scaler = StandardScaler()"
   ]
  },
  {
   "cell_type": "code",
   "execution_count": 23,
   "id": "f6885635",
   "metadata": {},
   "outputs": [],
   "source": [
    "X_train = scaler.fit_transform(X_train)"
   ]
  },
  {
   "cell_type": "code",
   "execution_count": 24,
   "id": "37daffe0",
   "metadata": {},
   "outputs": [],
   "source": [
    "X_test = scaler.fit_transform(X_test)"
   ]
  },
  {
   "cell_type": "code",
   "execution_count": 25,
   "id": "8c9b86dd",
   "metadata": {
    "scrolled": true
   },
   "outputs": [
    {
     "data": {
      "text/plain": [
       "array([[ 0.43591276,  0.62955003],\n",
       "       [-0.3008412 , -0.11991429],\n",
       "       [ 0.22541163,  1.13918577],\n",
       "       [ 1.06741615, -1.07922863],\n",
       "       [-0.3008412 ,  0.29978573],\n",
       "       [ 1.17266671, -0.89935719],\n",
       "       [ 0.33066219, -0.26980716],\n",
       "       [-0.19559063, -0.17987144],\n",
       "       [ 0.0149105 , -0.56959289],\n",
       "       [ 1.17266671, -0.11991429],\n",
       "       [-0.09034007,  0.3297643 ],\n",
       "       [-0.72184346,  0.59957146],\n",
       "       [-0.61659289,  1.52890722],\n",
       "       [ 2.22517237, -1.19914292],\n",
       "       [-0.09034007,  0.05995715],\n",
       "       [ 0.12016106,  0.05995715],\n",
       "       [ 0.43591276, -0.11991429],\n",
       "       [-0.09034007, -0.50963574],\n",
       "       [-1.14284572, -0.35974288],\n",
       "       [-1.03759516, -0.29978573],\n",
       "       [-0.3008412 , -0.35974288],\n",
       "       [ 0.75166445, -1.40899293],\n",
       "       [-1.03759516, -0.41970002],\n",
       "       [ 2.01467124, -1.28907864],\n",
       "       [ 0.43591276,  0.11991429],\n",
       "       [-0.61659289, -1.52890722],\n",
       "       [ 0.33066219,  0.05995715],\n",
       "       [ 1.17266671,  0.50963574],\n",
       "       [ 1.06741615, -1.16916435],\n",
       "       [ 0.96216558, -0.65952861],\n",
       "       [ 0.96216558, -1.31905721],\n",
       "       [-0.19559063,  1.70877866],\n",
       "       [-0.19559063, -0.26980716],\n",
       "       [-0.61659289,  0.92933576],\n",
       "       [ 1.06741615,  0.62955003],\n",
       "       [ 2.33042293,  0.98929291],\n",
       "       [ 2.33042293, -0.68950718],\n",
       "       [-0.09034007, -0.20985001],\n",
       "       [-0.09034007, -0.47965717],\n",
       "       [-0.3008412 ,  0.56959289],\n",
       "       [-0.19559063,  0.89935719],\n",
       "       [ 1.8041701 ,  1.82869295],\n",
       "       [-0.40609176, -1.31905721],\n",
       "       [ 0.22541163,  0.17987144],\n",
       "       [ 0.0149105 ,  0.3297643 ],\n",
       "       [-1.98485024, -1.31905721],\n",
       "       [-1.98485024, -1.28907864],\n",
       "       [-1.66909855, -0.41970002],\n",
       "       [-0.09034007,  0.02997857],\n",
       "       [-1.14284572, -1.55888579],\n",
       "       [-2.09010081,  0.50963574],\n",
       "       [-1.87959968, -0.98929291],\n",
       "       [ 0.12016106,  0.11991429],\n",
       "       [ 0.96216558,  1.31905721],\n",
       "       [-0.19559063, -0.56959289],\n",
       "       [-0.61659289,  1.4389715 ],\n",
       "       [-0.51134233,  0.        ],\n",
       "       [-0.09034007,  2.30835012],\n",
       "       [ 1.48841841, -1.4389715 ],\n",
       "       [-0.3008412 , -1.40899293],\n",
       "       [ 2.1199218 , -1.37901436],\n",
       "       [-0.82709402,  1.97858582],\n",
       "       [-0.09034007,  0.17987144],\n",
       "       [ 0.43591276,  1.04925005],\n",
       "       [-0.3008412 , -0.26980716],\n",
       "       [-1.98485024,  0.20985001],\n",
       "       [ 1.06741615,  2.06852154],\n",
       "       [-0.3008412 , -0.89935719],\n",
       "       [-0.93234459, -0.7794429 ],\n",
       "       [-0.3008412 , -0.74946432],\n",
       "       [ 0.75166445,  1.85867152],\n",
       "       [-1.03759516,  1.61884294],\n",
       "       [ 1.59366897, -1.04925005],\n",
       "       [-1.24809629, -1.55888579],\n",
       "       [ 0.75166445,  0.29978573],\n",
       "       [-1.24809629,  1.46895008],\n",
       "       [ 0.12016106,  0.23982858],\n",
       "       [-0.82709402, -1.55888579],\n",
       "       [-1.14284572,  0.80942147],\n",
       "       [ 2.1199218 , -0.65952861],\n",
       "       [ 0.12016106,  0.17987144],\n",
       "       [ 0.33066219, -0.29978573],\n",
       "       [ 0.75166445, -0.71948575],\n",
       "       [ 0.64641389,  2.09850011],\n",
       "       [-0.93234459,  0.3297643 ],\n",
       "       [-0.82709402,  0.59957146],\n",
       "       [-1.45859742, -1.25910007],\n",
       "       [ 0.12016106, -0.80942147],\n",
       "       [ 0.85691502, -1.22912149],\n",
       "       [ 2.1199218 ,  0.7794429 ],\n",
       "       [ 0.43591276, -0.11991429],\n",
       "       [ 0.33066219,  0.08993572],\n",
       "       [-0.82709402,  0.53961431],\n",
       "       [ 0.54116332,  1.79871438],\n",
       "       [-1.35334685,  0.3297643 ],\n",
       "       [-0.61659289,  2.42826441],\n",
       "       [-1.03759516,  0.53961431],\n",
       "       [ 1.69891954,  0.02997857],\n",
       "       [ 0.96216558, -0.56959289],\n",
       "       [ 0.12016106,  0.29978573],\n",
       "       [-1.24809629,  0.08993572],\n",
       "       [-0.40609176,  1.28907864],\n",
       "       [ 0.22541163, -0.65952861],\n",
       "       [ 0.0149105 ,  0.05995715],\n",
       "       [-0.3008412 , -1.31905721],\n",
       "       [ 0.12016106,  1.1092072 ],\n",
       "       [ 1.27791728, -0.74946432],\n",
       "       [ 0.75166445, -1.28907864],\n",
       "       [ 0.22541163,  0.08993572],\n",
       "       [-0.72184346,  1.46895008],\n",
       "       [-1.24809629, -1.01927148],\n",
       "       [ 1.17266671, -1.22912149],\n",
       "       [-0.72184346,  0.14989286],\n",
       "       [-0.93234459,  2.36830727],\n",
       "       [-0.3008412 , -0.47965717],\n",
       "       [-1.14284572,  0.44967859],\n",
       "       [-0.93234459, -0.7794429 ],\n",
       "       [-0.82709402, -0.20985001],\n",
       "       [ 0.22541163, -0.11991429],\n",
       "       [ 0.0149105 , -0.41970002]])"
      ]
     },
     "execution_count": 25,
     "metadata": {},
     "output_type": "execute_result"
    }
   ],
   "source": [
    "X_test"
   ]
  },
  {
   "cell_type": "code",
   "execution_count": 56,
   "id": "a231bf50",
   "metadata": {},
   "outputs": [],
   "source": [
    "K = 13"
   ]
  },
  {
   "cell_type": "code",
   "execution_count": 57,
   "id": "f73debc5",
   "metadata": {},
   "outputs": [],
   "source": [
    "from sklearn.neighbors import KNeighborsClassifier\n",
    "knn = KNeighborsClassifier(n_neighbors=K)"
   ]
  },
  {
   "cell_type": "code",
   "execution_count": 58,
   "id": "19aa4a4a",
   "metadata": {},
   "outputs": [
    {
     "data": {
      "text/html": [
       "<style>#sk-container-id-8 {color: black;}#sk-container-id-8 pre{padding: 0;}#sk-container-id-8 div.sk-toggleable {background-color: white;}#sk-container-id-8 label.sk-toggleable__label {cursor: pointer;display: block;width: 100%;margin-bottom: 0;padding: 0.3em;box-sizing: border-box;text-align: center;}#sk-container-id-8 label.sk-toggleable__label-arrow:before {content: \"▸\";float: left;margin-right: 0.25em;color: #696969;}#sk-container-id-8 label.sk-toggleable__label-arrow:hover:before {color: black;}#sk-container-id-8 div.sk-estimator:hover label.sk-toggleable__label-arrow:before {color: black;}#sk-container-id-8 div.sk-toggleable__content {max-height: 0;max-width: 0;overflow: hidden;text-align: left;background-color: #f0f8ff;}#sk-container-id-8 div.sk-toggleable__content pre {margin: 0.2em;color: black;border-radius: 0.25em;background-color: #f0f8ff;}#sk-container-id-8 input.sk-toggleable__control:checked~div.sk-toggleable__content {max-height: 200px;max-width: 100%;overflow: auto;}#sk-container-id-8 input.sk-toggleable__control:checked~label.sk-toggleable__label-arrow:before {content: \"▾\";}#sk-container-id-8 div.sk-estimator input.sk-toggleable__control:checked~label.sk-toggleable__label {background-color: #d4ebff;}#sk-container-id-8 div.sk-label input.sk-toggleable__control:checked~label.sk-toggleable__label {background-color: #d4ebff;}#sk-container-id-8 input.sk-hidden--visually {border: 0;clip: rect(1px 1px 1px 1px);clip: rect(1px, 1px, 1px, 1px);height: 1px;margin: -1px;overflow: hidden;padding: 0;position: absolute;width: 1px;}#sk-container-id-8 div.sk-estimator {font-family: monospace;background-color: #f0f8ff;border: 1px dotted black;border-radius: 0.25em;box-sizing: border-box;margin-bottom: 0.5em;}#sk-container-id-8 div.sk-estimator:hover {background-color: #d4ebff;}#sk-container-id-8 div.sk-parallel-item::after {content: \"\";width: 100%;border-bottom: 1px solid gray;flex-grow: 1;}#sk-container-id-8 div.sk-label:hover label.sk-toggleable__label {background-color: #d4ebff;}#sk-container-id-8 div.sk-serial::before {content: \"\";position: absolute;border-left: 1px solid gray;box-sizing: border-box;top: 0;bottom: 0;left: 50%;z-index: 0;}#sk-container-id-8 div.sk-serial {display: flex;flex-direction: column;align-items: center;background-color: white;padding-right: 0.2em;padding-left: 0.2em;position: relative;}#sk-container-id-8 div.sk-item {position: relative;z-index: 1;}#sk-container-id-8 div.sk-parallel {display: flex;align-items: stretch;justify-content: center;background-color: white;position: relative;}#sk-container-id-8 div.sk-item::before, #sk-container-id-8 div.sk-parallel-item::before {content: \"\";position: absolute;border-left: 1px solid gray;box-sizing: border-box;top: 0;bottom: 0;left: 50%;z-index: -1;}#sk-container-id-8 div.sk-parallel-item {display: flex;flex-direction: column;z-index: 1;position: relative;background-color: white;}#sk-container-id-8 div.sk-parallel-item:first-child::after {align-self: flex-end;width: 50%;}#sk-container-id-8 div.sk-parallel-item:last-child::after {align-self: flex-start;width: 50%;}#sk-container-id-8 div.sk-parallel-item:only-child::after {width: 0;}#sk-container-id-8 div.sk-dashed-wrapped {border: 1px dashed gray;margin: 0 0.4em 0.5em 0.4em;box-sizing: border-box;padding-bottom: 0.4em;background-color: white;}#sk-container-id-8 div.sk-label label {font-family: monospace;font-weight: bold;display: inline-block;line-height: 1.2em;}#sk-container-id-8 div.sk-label-container {text-align: center;}#sk-container-id-8 div.sk-container {/* jupyter's `normalize.less` sets `[hidden] { display: none; }` but bootstrap.min.css set `[hidden] { display: none !important; }` so we also need the `!important` here to be able to override the default hidden behavior on the sphinx rendered scikit-learn.org. See: https://github.com/scikit-learn/scikit-learn/issues/21755 */display: inline-block !important;position: relative;}#sk-container-id-8 div.sk-text-repr-fallback {display: none;}</style><div id=\"sk-container-id-8\" class=\"sk-top-container\"><div class=\"sk-text-repr-fallback\"><pre>KNeighborsClassifier(n_neighbors=13)</pre><b>In a Jupyter environment, please rerun this cell to show the HTML representation or trust the notebook. <br />On GitHub, the HTML representation is unable to render, please try loading this page with nbviewer.org.</b></div><div class=\"sk-container\" hidden><div class=\"sk-item\"><div class=\"sk-estimator sk-toggleable\"><input class=\"sk-toggleable__control sk-hidden--visually\" id=\"sk-estimator-id-8\" type=\"checkbox\" checked><label for=\"sk-estimator-id-8\" class=\"sk-toggleable__label sk-toggleable__label-arrow\">KNeighborsClassifier</label><div class=\"sk-toggleable__content\"><pre>KNeighborsClassifier(n_neighbors=13)</pre></div></div></div></div></div>"
      ],
      "text/plain": [
       "KNeighborsClassifier(n_neighbors=13)"
      ]
     },
     "execution_count": 58,
     "metadata": {},
     "output_type": "execute_result"
    }
   ],
   "source": [
    "knn.fit(X_train, y_train)"
   ]
  },
  {
   "cell_type": "code",
   "execution_count": 59,
   "id": "3c7dc352",
   "metadata": {},
   "outputs": [],
   "source": [
    "y_predict = knn.predict(X_test)"
   ]
  },
  {
   "cell_type": "code",
   "execution_count": 60,
   "id": "255d483e",
   "metadata": {},
   "outputs": [
    {
     "data": {
      "text/plain": [
       "0.925"
      ]
     },
     "execution_count": 60,
     "metadata": {},
     "output_type": "execute_result"
    }
   ],
   "source": [
    "from sklearn.metrics import accuracy_score\n",
    "accuracy_score(y_test, y_predict)"
   ]
  },
  {
   "cell_type": "code",
   "execution_count": 68,
   "id": "f97a6a73",
   "metadata": {},
   "outputs": [],
   "source": [
    "def predict_output():\n",
    "    age = int(input('Enter the age: '))\n",
    "    salary = int(input('Enter the Salary: '))\n",
    "    \n",
    "    X_new = np.array([[age], [salary]]).reshape(1,2)\n",
    "    X_new = scaler.transform(X_new)\n",
    "    \n",
    "    if knn.predict(X_new)[0] == 0:\n",
    "        return 'Will not Purchase'\n",
    "    \n",
    "    else:\n",
    "        return 'Will Purchase'\n",
    "    \n",
    "    "
   ]
  },
  {
   "cell_type": "code",
   "execution_count": 69,
   "id": "f7813e36",
   "metadata": {},
   "outputs": [
    {
     "name": "stdout",
     "output_type": "stream",
     "text": [
      "Enter the age: 23\n",
      "Enter the Salary: 4500000\n"
     ]
    },
    {
     "data": {
      "text/plain": [
       "'Will Purchase'"
      ]
     },
     "execution_count": 69,
     "metadata": {},
     "output_type": "execute_result"
    }
   ],
   "source": [
    "predict_output()"
   ]
  },
  {
   "cell_type": "code",
   "execution_count": null,
   "id": "e167df43",
   "metadata": {},
   "outputs": [],
   "source": []
  },
  {
   "cell_type": "code",
   "execution_count": null,
   "id": "997efd9c",
   "metadata": {},
   "outputs": [],
   "source": []
  },
  {
   "cell_type": "code",
   "execution_count": null,
   "id": "8a61f225",
   "metadata": {},
   "outputs": [],
   "source": []
  },
  {
   "cell_type": "code",
   "execution_count": null,
   "id": "b5b935b9",
   "metadata": {},
   "outputs": [],
   "source": []
  },
  {
   "cell_type": "code",
   "execution_count": null,
   "id": "ed6676fb",
   "metadata": {},
   "outputs": [],
   "source": []
  },
  {
   "cell_type": "code",
   "execution_count": null,
   "id": "1b8fc39e",
   "metadata": {},
   "outputs": [],
   "source": []
  },
  {
   "cell_type": "code",
   "execution_count": null,
   "id": "c65e58e7",
   "metadata": {},
   "outputs": [],
   "source": []
  },
  {
   "cell_type": "code",
   "execution_count": null,
   "id": "b8b5506f",
   "metadata": {},
   "outputs": [],
   "source": []
  },
  {
   "cell_type": "code",
   "execution_count": null,
   "id": "6726563d",
   "metadata": {},
   "outputs": [],
   "source": []
  },
  {
   "cell_type": "code",
   "execution_count": null,
   "id": "03ef42b8",
   "metadata": {},
   "outputs": [],
   "source": []
  },
  {
   "cell_type": "code",
   "execution_count": null,
   "id": "54147cb1",
   "metadata": {},
   "outputs": [],
   "source": []
  },
  {
   "cell_type": "code",
   "execution_count": null,
   "id": "2488e439",
   "metadata": {},
   "outputs": [],
   "source": []
  },
  {
   "cell_type": "code",
   "execution_count": null,
   "id": "1fb52d27",
   "metadata": {},
   "outputs": [],
   "source": []
  },
  {
   "cell_type": "code",
   "execution_count": null,
   "id": "d8861d25",
   "metadata": {},
   "outputs": [],
   "source": []
  },
  {
   "cell_type": "code",
   "execution_count": null,
   "id": "9eb93e7d",
   "metadata": {},
   "outputs": [],
   "source": []
  },
  {
   "cell_type": "code",
   "execution_count": null,
   "id": "6e7559cf",
   "metadata": {},
   "outputs": [],
   "source": []
  },
  {
   "cell_type": "code",
   "execution_count": null,
   "id": "981258ab",
   "metadata": {},
   "outputs": [],
   "source": []
  },
  {
   "cell_type": "code",
   "execution_count": null,
   "id": "cb051989",
   "metadata": {},
   "outputs": [],
   "source": []
  },
  {
   "cell_type": "code",
   "execution_count": null,
   "id": "373b8069",
   "metadata": {},
   "outputs": [],
   "source": []
  },
  {
   "cell_type": "code",
   "execution_count": null,
   "id": "db574b2d",
   "metadata": {},
   "outputs": [],
   "source": []
  },
  {
   "cell_type": "code",
   "execution_count": null,
   "id": "d06baf5f",
   "metadata": {},
   "outputs": [],
   "source": []
  },
  {
   "cell_type": "code",
   "execution_count": null,
   "id": "32ce0597",
   "metadata": {},
   "outputs": [],
   "source": []
  },
  {
   "cell_type": "code",
   "execution_count": null,
   "id": "1645301e",
   "metadata": {},
   "outputs": [],
   "source": []
  },
  {
   "cell_type": "code",
   "execution_count": null,
   "id": "00330c67",
   "metadata": {},
   "outputs": [],
   "source": []
  },
  {
   "cell_type": "code",
   "execution_count": null,
   "id": "551a103c",
   "metadata": {},
   "outputs": [],
   "source": []
  },
  {
   "cell_type": "code",
   "execution_count": null,
   "id": "939267f1",
   "metadata": {},
   "outputs": [],
   "source": []
  },
  {
   "cell_type": "code",
   "execution_count": null,
   "id": "2252b42e",
   "metadata": {},
   "outputs": [],
   "source": []
  },
  {
   "cell_type": "code",
   "execution_count": null,
   "id": "d06ddf79",
   "metadata": {},
   "outputs": [],
   "source": []
  },
  {
   "cell_type": "code",
   "execution_count": null,
   "id": "fa22c637",
   "metadata": {},
   "outputs": [],
   "source": []
  },
  {
   "cell_type": "code",
   "execution_count": null,
   "id": "a617da5b",
   "metadata": {},
   "outputs": [],
   "source": []
  },
  {
   "cell_type": "code",
   "execution_count": null,
   "id": "5a9ad24c",
   "metadata": {},
   "outputs": [],
   "source": []
  },
  {
   "cell_type": "code",
   "execution_count": null,
   "id": "f10d4ce5",
   "metadata": {},
   "outputs": [],
   "source": []
  },
  {
   "cell_type": "code",
   "execution_count": null,
   "id": "deb32cf3",
   "metadata": {},
   "outputs": [],
   "source": []
  },
  {
   "cell_type": "code",
   "execution_count": null,
   "id": "506ac684",
   "metadata": {},
   "outputs": [],
   "source": []
  },
  {
   "cell_type": "code",
   "execution_count": null,
   "id": "add2000e",
   "metadata": {},
   "outputs": [],
   "source": []
  }
 ],
 "metadata": {
  "kernelspec": {
   "display_name": "Python 3 (ipykernel)",
   "language": "python",
   "name": "python3"
  },
  "language_info": {
   "codemirror_mode": {
    "name": "ipython",
    "version": 3
   },
   "file_extension": ".py",
   "mimetype": "text/x-python",
   "name": "python",
   "nbconvert_exporter": "python",
   "pygments_lexer": "ipython3",
   "version": "3.11.5"
  }
 },
 "nbformat": 4,
 "nbformat_minor": 5
}
